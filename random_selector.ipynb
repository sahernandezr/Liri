{
  "nbformat": 4,
  "nbformat_minor": 0,
  "metadata": {
    "colab": {
      "provenance": [],
      "authorship_tag": "ABX9TyPMeJivZxUa05hFO02ttaBj",
      "include_colab_link": true
    },
    "kernelspec": {
      "name": "python3",
      "display_name": "Python 3"
    },
    "language_info": {
      "name": "python"
    }
  },
  "cells": [
    {
      "cell_type": "markdown",
      "metadata": {
        "id": "view-in-github",
        "colab_type": "text"
      },
      "source": [
        "<a href=\"https://colab.research.google.com/github/sahernandezr/Liri/blob/master/random_selector.ipynb\" target=\"_parent\"><img src=\"https://colab.research.google.com/assets/colab-badge.svg\" alt=\"Open In Colab\"/></a>"
      ]
    },
    {
      "cell_type": "markdown",
      "source": [
        "# Make random groups with n members each\n",
        "* Get a list of student names\n",
        "* Get how many members each group should have (do I want pairs? trios? quintets?)\n",
        "* Define how many groups I can make\n",
        "* Fill each groups with random students\n",
        "* Manage remainder students, if any\n",
        "* Print out the list of groups"
      ],
      "metadata": {
        "id": "Cu03y9o94Lkn"
      }
    },
    {
      "cell_type": "code",
      "source": [
        "students = ['André', 'Arantxa', 'Diego','Emi','Irina','Juan Carlos','Maya','Moni','Pedro','Raúl','Ti','Zoé']\n",
        "n = 2"
      ],
      "metadata": {
        "id": "v-8s-vo64JCq"
      },
      "execution_count": null,
      "outputs": []
    },
    {
      "cell_type": "code",
      "source": [
        "number_of_groups = len(students)/n\n",
        "number_of_groups"
      ],
      "metadata": {
        "colab": {
          "base_uri": "https://localhost:8080/"
        },
        "id": "_rxlwwAq4JFA",
        "outputId": "0c7a2587-9018-4edc-b502-d8308b4d9f49"
      },
      "execution_count": null,
      "outputs": [
        {
          "output_type": "execute_result",
          "data": {
            "text/plain": [
              "5.5"
            ]
          },
          "metadata": {},
          "execution_count": 2
        }
      ]
    },
    {
      "cell_type": "code",
      "source": [
        "number_of_groups = int(len(students)/n)\n",
        "number_of_groups"
      ],
      "metadata": {
        "colab": {
          "base_uri": "https://localhost:8080/"
        },
        "id": "SzFtncIR4JG_",
        "outputId": "6194c020-f7ce-4d1f-c579-d23908f6974e"
      },
      "execution_count": null,
      "outputs": [
        {
          "output_type": "execute_result",
          "data": {
            "text/plain": [
              "5"
            ]
          },
          "metadata": {},
          "execution_count": 3
        }
      ]
    },
    {
      "cell_type": "code",
      "source": [
        "len(students)"
      ],
      "metadata": {
        "colab": {
          "base_uri": "https://localhost:8080/"
        },
        "id": "rnzRZIlo4JLN",
        "outputId": "6d54afc9-ab7a-44f5-974f-488c7f54fb4d"
      },
      "execution_count": null,
      "outputs": [
        {
          "output_type": "execute_result",
          "data": {
            "text/plain": [
              "11"
            ]
          },
          "metadata": {},
          "execution_count": 5
        }
      ]
    },
    {
      "cell_type": "code",
      "source": [
        "students[5]"
      ],
      "metadata": {
        "colab": {
          "base_uri": "https://localhost:8080/",
          "height": 35
        },
        "id": "r0WfuqfE4JNJ",
        "outputId": "76ec2c43-6220-44eb-d37b-40f225829aa5"
      },
      "execution_count": null,
      "outputs": [
        {
          "output_type": "execute_result",
          "data": {
            "text/plain": [
              "'Karla'"
            ],
            "application/vnd.google.colaboratory.intrinsic+json": {
              "type": "string"
            }
          },
          "metadata": {},
          "execution_count": 6
        }
      ]
    },
    {
      "cell_type": "code",
      "source": [
        "import random #a module included in Python https://docs.python.org/3/library/random.html\n",
        "for i in range(8):\n",
        "    x = random.randint(0,8)\n",
        "    print(x)"
      ],
      "metadata": {
        "colab": {
          "base_uri": "https://localhost:8080/"
        },
        "id": "P9vHj9Ps4JJF",
        "outputId": "7265c49e-6051-4318-8e5c-eda7ddc4fdbd"
      },
      "execution_count": null,
      "outputs": [
        {
          "output_type": "stream",
          "name": "stdout",
          "text": [
            "1\n",
            "2\n",
            "0\n",
            "6\n",
            "3\n",
            "3\n",
            "8\n",
            "3\n"
          ]
        }
      ]
    },
    {
      "cell_type": "code",
      "source": [
        "group=[]\n",
        "for i in range(n):\n",
        "    x = random.randint(0,len(students)-1)\n",
        "    group.append(students[x])\n",
        "    students.remove(students[x])\n",
        "group"
      ],
      "metadata": {
        "colab": {
          "base_uri": "https://localhost:8080/"
        },
        "id": "ZS-BQv3N4JPb",
        "outputId": "77d2f467-e189-4dba-eb81-ea4f4a6d3f50"
      },
      "execution_count": null,
      "outputs": [
        {
          "output_type": "execute_result",
          "data": {
            "text/plain": [
              "['Emilia', 'Zoé']"
            ]
          },
          "metadata": {},
          "execution_count": 7
        }
      ]
    },
    {
      "cell_type": "code",
      "source": [
        "groups_list = []\n",
        "for j in range(number_of_groups):\n",
        "    group=[]\n",
        "    for i in range(n):\n",
        "        x = random.randint(0,len(students)-1)\n",
        "        group.append(students[x])\n",
        "        students.remove(students[x])\n",
        "    groups_list.append(group)\n",
        "groups_list"
      ],
      "metadata": {
        "colab": {
          "base_uri": "https://localhost:8080/"
        },
        "id": "tO5MKAMx4JRX",
        "outputId": "01fb72a1-1251-49e2-8999-3b4c88236229"
      },
      "execution_count": null,
      "outputs": [
        {
          "output_type": "execute_result",
          "data": {
            "text/plain": [
              "[['Brianda', 'Juan Carlos'],\n",
              " ['Diego', 'Raúl Abraham'],\n",
              " ['Pedro', 'André'],\n",
              " ['Karla', 'Irina Marcela'],\n",
              " ['Zoé', 'Moni']]"
            ]
          },
          "metadata": {},
          "execution_count": 9
        }
      ]
    },
    {
      "cell_type": "code",
      "source": [
        "students = ['André', 'Brianda', 'Diego', 'Emilia', 'Juan Carlos', 'Karla', 'Moni', 'Pedro', 'Raúl Abraham', 'Irina Marcela', 'Zoé']"
      ],
      "metadata": {
        "id": "JNNBaNSy4u7-"
      },
      "execution_count": null,
      "outputs": []
    },
    {
      "cell_type": "code",
      "source": [
        "def make_groups(students, n):\n",
        "    number_of_groups = int(len(students)/n)\n",
        "    groups_list = []\n",
        "    for j in range(number_of_groups):\n",
        "        group=[]\n",
        "        for i in range(n):\n",
        "            x = random.randint(0,len(students)-1)\n",
        "            group.append(students[x])\n",
        "            students.remove(students[x])\n",
        "        groups_list.append(group)\n",
        "    if len(students)!=0:\n",
        "        print('uneven!')\n",
        "        for k in range(len(students)):\n",
        "            groups_list[k].append(students[k])\n",
        "    return groups_list"
      ],
      "metadata": {
        "id": "ujevCEfY4u-M"
      },
      "execution_count": null,
      "outputs": []
    },
    {
      "cell_type": "code",
      "source": [
        "make_groups(students,2)"
      ],
      "metadata": {
        "colab": {
          "base_uri": "https://localhost:8080/"
        },
        "id": "9dfCl7Wo4vAf",
        "outputId": "ba427a8a-8ff0-4097-ff64-27b962c39b2d"
      },
      "execution_count": null,
      "outputs": [
        {
          "output_type": "stream",
          "name": "stdout",
          "text": [
            "uneven!\n"
          ]
        },
        {
          "output_type": "execute_result",
          "data": {
            "text/plain": [
              "[['Diego', 'Raúl Abraham', 'André'],\n",
              " ['Pedro', 'Irina Marcela'],\n",
              " ['Karla', 'Zoé'],\n",
              " ['Emilia', 'Brianda'],\n",
              " ['Juan Carlos', 'Moni']]"
            ]
          },
          "metadata": {},
          "execution_count": 12
        }
      ]
    },
    {
      "cell_type": "code",
      "source": [
        "students = ['André', 'Brianda', 'Diego', 'Emilia', 'Juan Carlos', 'Karla', 'Moni', 'Pedro', 'Raúl Abraham', 'Irina Marcela', 'Zoé']\n",
        "groups_list=[]"
      ],
      "metadata": {
        "id": "mCrPcRSI4vCb"
      },
      "execution_count": null,
      "outputs": []
    },
    {
      "cell_type": "code",
      "source": [
        "for i in range(number_of_groups):\n",
        "    group = random.sample(students,n)\n",
        "    groups_list.append(group)\n",
        "groups_list"
      ],
      "metadata": {
        "colab": {
          "base_uri": "https://localhost:8080/"
        },
        "id": "axH6qolZ4vEj",
        "outputId": "0aaf81d6-2696-4dff-d0aa-68da3627f7fa"
      },
      "execution_count": null,
      "outputs": [
        {
          "output_type": "execute_result",
          "data": {
            "text/plain": [
              "[['Irina Marcela', 'Diego'],\n",
              " ['Karla', 'Emilia'],\n",
              " ['Emilia', 'Pedro'],\n",
              " ['Karla', 'André'],\n",
              " ['Irina Marcela', 'Raúl Abraham']]"
            ]
          },
          "metadata": {},
          "execution_count": 14
        }
      ]
    },
    {
      "cell_type": "code",
      "source": [
        "for i in range(number_of_groups):\n",
        "    group = random.sample(students,n)\n",
        "    groups_list.append(group)\n",
        "    students.remove(group[0])\n",
        "    students.remove(group[1])\n",
        "groups_list"
      ],
      "metadata": {
        "id": "4FN0rVaV48ca",
        "outputId": "988fd9a4-06fd-4d2d-9b78-1a17fefa0fa6",
        "colab": {
          "base_uri": "https://localhost:8080/"
        }
      },
      "execution_count": null,
      "outputs": [
        {
          "output_type": "execute_result",
          "data": {
            "text/plain": [
              "[['Karla', 'Raúl Abraham'],\n",
              " ['Brianda', 'Juan Carlos'],\n",
              " ['Irina Marcela', 'Pedro'],\n",
              " ['Diego', 'Moni'],\n",
              " ['Emilia', 'André']]"
            ]
          },
          "metadata": {},
          "execution_count": 17
        }
      ]
    },
    {
      "cell_type": "code",
      "source": [],
      "metadata": {
        "id": "FK4733yx48eu"
      },
      "execution_count": null,
      "outputs": []
    },
    {
      "cell_type": "code",
      "source": [],
      "metadata": {
        "id": "-aexEB-c48gt"
      },
      "execution_count": null,
      "outputs": []
    },
    {
      "cell_type": "code",
      "source": [],
      "metadata": {
        "id": "ZEIsBc5c48iz"
      },
      "execution_count": null,
      "outputs": []
    }
  ]
}